{
 "cells": [
  {
   "cell_type": "markdown",
   "metadata": {},
   "source": [
    "#Ensure to load the dataset into input data:\n",
    "https://www.kaggle.com/datasets/kaspermaarschalk/fscone/ (converted to YOLO TXT Format)\n",
    "https://www.kaggle.com/datasets/kaspermaarschalk/kg-conf-new/ (configuration .yaml)\n",
    "\n",
    "\n",
    "Set gpu accelerator in right hand side\n",
    "also persistence to \"files only\" "
   ]
  },
  {
   "cell_type": "code",
   "execution_count": null,
   "metadata": {},
   "outputs": [],
   "source": [
    "# This Python 3 environment comes with many helpful analytics libraries installed\n",
    "# It is defined by the kaggle/python Docker image: https://github.com/kaggle/docker-python\n",
    "# For example, here's several helpful packages to load\n",
    "\n",
    "import numpy as np # linear algebra\n",
    "import pandas as pd # data processing, CSV file I/O (e.g. pd.read_csv)\n",
    "\n",
    "# Input data files are available in the read-only \"../input/\" directory\n",
    "# For example, running this (by clicking run or pressing Shift+Enter) will list all files under the input directory\n",
    "\n",
    "import os\n",
    "for dirname, _, filenames in os.walk('/kaggle/input'):\n",
    "    for filename in filenames:\n",
    "        print(os.path.join(dirname, filename))\n",
    "\n",
    "# You can write up to 20GB to the current directory (/kaggle/working/) that gets preserved as output when you create a version using \"Save & Run All\" \n",
    "# You can also write temporary files to /kaggle/temp/, but they won't be saved outside of the current session"
   ]
  },
  {
   "cell_type": "code",
   "execution_count": null,
   "metadata": {},
   "outputs": [],
   "source": [
    "!nvidia-smi"
   ]
  },
  {
   "cell_type": "code",
   "execution_count": null,
   "metadata": {},
   "outputs": [],
   "source": [
    "!pip install ultralytics"
   ]
  },
  {
   "cell_type": "code",
   "execution_count": null,
   "metadata": {},
   "outputs": [],
   "source": [
    "## importing required libraries\n",
    "import os\n",
    "import shutil\n",
    "import random\n",
    "\n",
    "!pip install tqdm --upgrade\n",
    "from tqdm.notebook import tqdm"
   ]
  },
  {
   "cell_type": "code",
   "execution_count": null,
   "metadata": {},
   "outputs": [],
   "source": [
    "os.chdir('/kaggle/working/')\n",
    "\n",
    "print(os.curdir)"
   ]
  },
  {
   "cell_type": "code",
   "execution_count": null,
   "metadata": {},
   "outputs": [],
   "source": [
    "os.environ['WANDB_DISABLED'] = 'true'\n",
    "import ultralytics\n",
    "\n",
    "# If running 2xT4\n",
    "#!yolo detect train data=/kaggle/input/kg-conf-new/kaggle_config_new.yaml model=/kaggle/working/runs/detect/train/weights/last.pt epochs=100 imgsz=640 device=0,1 batch=30 \n",
    "\n",
    "# if running 1xT4 or 1xP100\n",
    "def main():\n",
    "    # Load an RT-DETR model\n",
    "    model = ultralytics.RTDETR('rtdetr-l.yaml')  # build a new model from YAML\n",
    "\n",
    "    # Train the model 10+10(10 batch)\n",
    "    results = model.train(data=r'/kaggle/input/kg-conf-new/kaggle_config_new.yaml', epochs=20, imgsz=640, batch=10)\n",
    "\n",
    "if __name__ == '__main__':\n",
    "    main()"
   ]
  },
  {
   "cell_type": "code",
   "execution_count": null,
   "metadata": {},
   "outputs": [],
   "source": [
    "# Zip output for download\n",
    "!zip -r output.zip /kaggle/working/"
   ]
  }
 ],
 "metadata": {
  "language_info": {
   "name": "python"
  }
 },
 "nbformat": 4,
 "nbformat_minor": 2
}
